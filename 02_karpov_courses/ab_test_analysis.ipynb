{
 "cells": [
  {
   "cell_type": "markdown",
   "id": "027c2ca4",
   "metadata": {},
   "source": [
    "# A/B‑Test Analysis – Dating App Premium Pricing Experiment\n",
    "\n",
    "Author: *your name here*\n",
    "Date: 1 August 2025"
   ]
  },
  {
   "cell_type": "markdown",
   "id": "8b8d1fd8",
   "metadata": {},
   "source": [
    "## 0. Contents  \n",
    "1. [Data Loading](#data-loading)  \n",
    "2. [Data Quality & Balance](#data-quality)  \n",
    "3. [Metric Definition](#metrics)  \n",
    "4. [Statistical Tests](#tests)  \n",
    "5. [Segment Analysis](#segments)  \n",
    "6. [Conclusions](#conclusions)"
   ]
  },
  {
   "cell_type": "markdown",
   "id": "3c510157",
   "metadata": {},
   "source": [
    "## 1. Data Loading <a id='data-loading'></a>"
   ]
  },
  {
   "cell_type": "code",
   "execution_count": 1,
   "id": "13928565",
   "metadata": {},
   "outputs": [
    {
     "name": "stdout",
     "output_type": "stream",
     "text": [
      "{'users_control_1': (4340, 13), 'users_control_2': (4264, 13), 'users_test': (4308, 13), 'transactions_control_1': (1007, 8), 'transactions_control_2': (328, 8), 'transactions_test': (273, 8)}\n"
     ]
    }
   ],
   "source": [
    "import pandas as pd\n",
    "import numpy as np\n",
    "import os\n",
    "import matplotlib.pyplot as plt\n",
    "from scipy.stats import mannwhitneyu, ttest_ind\n",
    "from statsmodels.stats.proportion import proportions_ztest\n",
    "\n",
    "# Helper for robust CSV reading\n",
    "def read_csv_robust(path):\n",
    "    attempts = [\n",
    "        {'encoding':'utf-8', 'sep':','},\n",
    "        {'encoding':'utf-8', 'sep':';'},\n",
    "        {'encoding':'utf-8-sig', 'sep':','},\n",
    "        {'encoding':'utf-8-sig', 'sep':';'},\n",
    "        {'encoding':'cp1251', 'sep':','},\n",
    "        {'encoding':'cp1251', 'sep':';'},\n",
    "    ]\n",
    "    for opts in attempts:\n",
    "        try:\n",
    "            return pd.read_csv(path, **opts)\n",
    "        except Exception:\n",
    "            continue\n",
    "    raise ValueError(f'Cannot read {path}')\n",
    "\n",
    "file_paths = {\n",
    "    'users_control_1': '/Users/aleksey/Downloads/Проект_3_users_control_1.csv',\n",
    "    'users_control_2': '/Users/aleksey/Downloads/Проект_3_users_control_2.csv',\n",
    "    'users_test':      '/Users/aleksey/Downloads/Проект_3_users_test.csv',\n",
    "    'transactions_control_1': '/Users/aleksey/Downloads/Проект_3_transactions_control_1.csv',\n",
    "    'transactions_control_2': '/Users/aleksey/Downloads/Проект_3_transactions_control_2.csv',\n",
    "    'transactions_test':      '/Users/aleksey/Downloads/Проект_3_transactions_test.csv',\n",
    "}\n",
    "\n",
    "data = {k: read_csv_robust(p) for k,p in file_paths.items()}\n",
    "\n",
    "for k in ['transactions_control_1','transactions_control_2','transactions_test']:\n",
    "    # ensure ;‑separated transactions are parsed correctly (if not already)\n",
    "    if data[k].shape[1]==1:\n",
    "        data[k] = pd.read_csv(file_paths[k], sep=';', encoding='utf-8')\n",
    "\n",
    "print({k: data[k].shape for k in data})\n"
   ]
  },
  {
   "cell_type": "markdown",
   "id": "a619ed18",
   "metadata": {},
   "source": [
    "## 2. Data Quality & Balance <a id='data-quality'></a>"
   ]
  },
  {
   "cell_type": "code",
   "execution_count": 2,
   "id": "12162fa1",
   "metadata": {},
   "outputs": [
    {
     "data": {
      "text/html": [
       "<div>\n",
       "<style scoped>\n",
       "    .dataframe tbody tr th:only-of-type {\n",
       "        vertical-align: middle;\n",
       "    }\n",
       "\n",
       "    .dataframe tbody tr th {\n",
       "        vertical-align: top;\n",
       "    }\n",
       "\n",
       "    .dataframe thead th {\n",
       "        text-align: right;\n",
       "    }\n",
       "</style>\n",
       "<table border=\"1\" class=\"dataframe\">\n",
       "  <thead>\n",
       "    <tr style=\"text-align: right;\">\n",
       "      <th></th>\n",
       "      <th>n_users</th>\n",
       "      <th>age_mean</th>\n",
       "      <th>age_median</th>\n",
       "      <th>male_frac</th>\n",
       "      <th>female_frac</th>\n",
       "      <th>countries</th>\n",
       "    </tr>\n",
       "  </thead>\n",
       "  <tbody>\n",
       "    <tr>\n",
       "      <th>control_1</th>\n",
       "      <td>4340.0</td>\n",
       "      <td>32.095392</td>\n",
       "      <td>30.0</td>\n",
       "      <td>0.958065</td>\n",
       "      <td>0.041935</td>\n",
       "      <td>40.0</td>\n",
       "    </tr>\n",
       "    <tr>\n",
       "      <th>control_2</th>\n",
       "      <td>4264.0</td>\n",
       "      <td>32.046201</td>\n",
       "      <td>30.0</td>\n",
       "      <td>0.954268</td>\n",
       "      <td>0.045732</td>\n",
       "      <td>45.0</td>\n",
       "    </tr>\n",
       "    <tr>\n",
       "      <th>test</th>\n",
       "      <td>4308.0</td>\n",
       "      <td>31.889276</td>\n",
       "      <td>30.0</td>\n",
       "      <td>0.953110</td>\n",
       "      <td>0.046890</td>\n",
       "      <td>51.0</td>\n",
       "    </tr>\n",
       "  </tbody>\n",
       "</table>\n",
       "</div>"
      ],
      "text/plain": [
       "           n_users   age_mean  age_median  male_frac  female_frac  countries\n",
       "control_1   4340.0  32.095392        30.0   0.958065     0.041935       40.0\n",
       "control_2   4264.0  32.046201        30.0   0.954268     0.045732       45.0\n",
       "test        4308.0  31.889276        30.0   0.953110     0.046890       51.0"
      ]
     },
     "execution_count": 2,
     "metadata": {},
     "output_type": "execute_result"
    }
   ],
   "source": [
    "# Basic demographics summary\n",
    "def summarise_users(df):\n",
    "    return pd.Series({\n",
    "        'n_users': len(df),\n",
    "        'age_mean': df['age'].mean(),\n",
    "        'age_median': df['age'].median(),\n",
    "        'male_frac': (df['gender']==1).mean(),\n",
    "        'female_frac': (df['gender']==0).mean(),\n",
    "        'countries': df['country'].nunique()\n",
    "    })\n",
    "\n",
    "demo = pd.concat({\n",
    "    'control_1': summarise_users(data['users_control_1']),\n",
    "    'control_2': summarise_users(data['users_control_2']),\n",
    "    'test':      summarise_users(data['users_test'])\n",
    "}, axis=1).T\n",
    "demo\n"
   ]
  },
  {
   "cell_type": "code",
   "execution_count": 3,
   "id": "9a993907",
   "metadata": {},
   "outputs": [
    {
     "data": {
      "image/png": "[encoded data removed]",
      "text/plain": [
       "<Figure size 600x400 with 1 Axes>"
      ]
     },
     "metadata": {},
     "output_type": "display_data"
    }
   ],
   "source": [
    "# Age distribution plot\n",
    "plt.figure(figsize=(6,4))\n",
    "for label, df in [('Control 1', data['users_control_1']),\n",
    "                  ('Control 2', data['users_control_2']),\n",
    "                  ('Test',       data['users_test'])]:\n",
    "    plt.hist(df['age'], bins=30, alpha=0.5, label=label, density=True)\n",
    "plt.legend()\n",
    "plt.title('Age distribution by group')\n",
    "plt.xlabel('Age')\n",
    "plt.ylabel('Density')\n",
    "plt.show()\n"
   ]
  },
  {
   "cell_type": "markdown",
   "id": "4432de9d",
   "metadata": {},
   "source": [
    "## 3. Metric Definition <a id='metrics'></a>\n",
    "* **Primary metric:** conversion to paid Premium (`premium_no_trial`).\n",
    "* **Secondary:** ARPU (revenue per user) from all products.\n",
    "* **Unit of analysis:** user."
   ]
  },
  {
   "cell_type": "code",
   "execution_count": 4,
   "id": "a208425e",
   "metadata": {},
   "outputs": [
    {
     "data": {
      "text/html": [
       "<div>\n",
       "<style scoped>\n",
       "    .dataframe tbody tr th:only-of-type {\n",
       "        vertical-align: middle;\n",
       "    }\n",
       "\n",
       "    .dataframe tbody tr th {\n",
       "        vertical-align: top;\n",
       "    }\n",
       "\n",
       "    .dataframe thead th {\n",
       "        text-align: right;\n",
       "    }\n",
       "</style>\n",
       "<table border=\"1\" class=\"dataframe\">\n",
       "  <thead>\n",
       "    <tr style=\"text-align: right;\">\n",
       "      <th></th>\n",
       "      <th>users</th>\n",
       "      <th>premium_payers</th>\n",
       "      <th>conversion</th>\n",
       "      <th>total_revenue</th>\n",
       "      <th>arpu</th>\n",
       "    </tr>\n",
       "  </thead>\n",
       "  <tbody>\n",
       "    <tr>\n",
       "      <th>control_1</th>\n",
       "      <td>4340.0</td>\n",
       "      <td>99.0</td>\n",
       "      <td>0.022811</td>\n",
       "      <td>2612311.0</td>\n",
       "      <td>601.914977</td>\n",
       "    </tr>\n",
       "    <tr>\n",
       "      <th>control_2</th>\n",
       "      <td>4264.0</td>\n",
       "      <td>102.0</td>\n",
       "      <td>0.023921</td>\n",
       "      <td>1920438.0</td>\n",
       "      <td>450.384146</td>\n",
       "    </tr>\n",
       "    <tr>\n",
       "      <th>test</th>\n",
       "      <td>4308.0</td>\n",
       "      <td>67.0</td>\n",
       "      <td>0.015552</td>\n",
       "      <td>2344901.0</td>\n",
       "      <td>544.313138</td>\n",
       "    </tr>\n",
       "    <tr>\n",
       "      <th>control_combined</th>\n",
       "      <td>8604.0</td>\n",
       "      <td>201.0</td>\n",
       "      <td>0.023361</td>\n",
       "      <td>4532749.0</td>\n",
       "      <td>526.818805</td>\n",
       "    </tr>\n",
       "  </tbody>\n",
       "</table>\n",
       "</div>"
      ],
      "text/plain": [
       "                   users  premium_payers  conversion  total_revenue  \\\n",
       "control_1         4340.0            99.0    0.022811      2612311.0   \n",
       "control_2         4264.0           102.0    0.023921      1920438.0   \n",
       "test              4308.0            67.0    0.015552      2344901.0   \n",
       "control_combined  8604.0           201.0    0.023361      4532749.0   \n",
       "\n",
       "                        arpu  \n",
       "control_1         601.914977  \n",
       "control_2         450.384146  \n",
       "test              544.313138  \n",
       "control_combined  526.818805  "
      ]
     },
     "execution_count": 4,
     "metadata": {},
     "output_type": "execute_result"
    }
   ],
   "source": [
    "# Helper to compute metrics\n",
    "def compute_metrics(users_df, trans_df):\n",
    "    premium = trans_df.loc[trans_df['product_type']=='premium_no_trial','uid'].unique()\n",
    "    rev_per_user = trans_df.groupby('uid')['revenue'].sum()\n",
    "    users_df = users_df.copy()\n",
    "    users_df['payer'] = users_df['uid'].isin(premium)\n",
    "    users_df['revenue'] = users_df['uid'].map(rev_per_user).fillna(0)\n",
    "    return pd.Series({\n",
    "        'users': len(users_df),\n",
    "        'premium_payers': users_df['payer'].sum(),\n",
    "        'conversion': users_df['payer'].mean(),\n",
    "        'total_revenue': users_df['revenue'].sum(),\n",
    "        'arpu': users_df['revenue'].mean()\n",
    "    })\n",
    "\n",
    "metrics = pd.concat({\n",
    "    'control_1': compute_metrics(data['users_control_1'], data['transactions_control_1']),\n",
    "    'control_2': compute_metrics(data['users_control_2'], data['transactions_control_2']),\n",
    "    'test':      compute_metrics(data['users_test'],      data['transactions_test'])\n",
    "}, axis=1).T\n",
    "\n",
    "# Combine controls\n",
    "control_combined_users = pd.concat([data['users_control_1'], data['users_control_2']])\n",
    "control_combined_trans = pd.concat([data['transactions_control_1'], data['transactions_control_2']])\n",
    "metrics.loc['control_combined'] = compute_metrics(control_combined_users, control_combined_trans)\n",
    "\n",
    "metrics\n"
   ]
  },
  {
   "cell_type": "markdown",
   "id": "cd1e6c47",
   "metadata": {},
   "source": [
    "## 4. Statistical Tests <a id='tests'></a>"
   ]
  },
  {
   "cell_type": "code",
   "execution_count": 5,
   "id": "e44be1ca",
   "metadata": {},
   "outputs": [
    {
     "name": "stdout",
     "output_type": "stream",
     "text": [
      "Conversion z‑test: z = 2.935, p = 0.0033\n",
      "ARPU Welch t‑test: t = -0.186, p = 0.8523\n"
     ]
    }
   ],
   "source": [
    "# Conversion z‑test (combined control vs test)\n",
    "success = [metrics.loc['control_combined','premium_payers'],\n",
    "           metrics.loc['test','premium_payers']]\n",
    "nobs = [metrics.loc['control_combined','users'], metrics.loc['test','users']]\n",
    "z_stat, p_val = proportions_ztest(count=success, nobs=nobs, alternative='two-sided')\n",
    "print(f'Conversion z‑test: z = {z_stat:.3f}, p = {p_val:.4f}')\n",
    "\n",
    "# ARPU Welch t‑test\n",
    "control_rev = control_combined_trans.groupby('uid')['revenue'].sum()\n",
    "test_rev    = data['transactions_test'].groupby('uid')['revenue'].sum()\n",
    "\n",
    "control_rev_full = pd.Series(0, index=control_combined_users['uid'])\n",
    "control_rev_full.update(control_rev)\n",
    "test_rev_full = pd.Series(0, index=data['users_test']['uid'])\n",
    "test_rev_full.update(test_rev)\n",
    "\n",
    "t_stat, p_val_arpu = ttest_ind(control_rev_full, test_rev_full, equal_var=False)\n",
    "print(f'ARPU Welch t‑test: t = {t_stat:.3f}, p = {p_val_arpu:.4f}')\n"
   ]
  },
  {
   "cell_type": "markdown",
   "id": "e4dd6414",
   "metadata": {},
   "source": [
    "## 5. Segment Analysis (by Country) <a id='segments'></a>"
   ]
  },
  {
   "cell_type": "code",
   "execution_count": 6,
   "id": "ce4218f6",
   "metadata": {},
   "outputs": [
    {
     "data": {
      "text/html": [
       "<div>\n",
       "<style scoped>\n",
       "    .dataframe tbody tr th:only-of-type {\n",
       "        vertical-align: middle;\n",
       "    }\n",
       "\n",
       "    .dataframe tbody tr th {\n",
       "        vertical-align: top;\n",
       "    }\n",
       "\n",
       "    .dataframe thead th {\n",
       "        text-align: right;\n",
       "    }\n",
       "</style>\n",
       "<table border=\"1\" class=\"dataframe\">\n",
       "  <thead>\n",
       "    <tr style=\"text-align: right;\">\n",
       "      <th></th>\n",
       "      <th>users_ctrl</th>\n",
       "      <th>payers_ctrl</th>\n",
       "      <th>conversion_ctrl</th>\n",
       "      <th>users_test</th>\n",
       "      <th>payers_test</th>\n",
       "      <th>conversion_test</th>\n",
       "      <th>lift</th>\n",
       "    </tr>\n",
       "    <tr>\n",
       "      <th>country</th>\n",
       "      <th></th>\n",
       "      <th></th>\n",
       "      <th></th>\n",
       "      <th></th>\n",
       "      <th></th>\n",
       "      <th></th>\n",
       "      <th></th>\n",
       "    </tr>\n",
       "  </thead>\n",
       "  <tbody>\n",
       "    <tr>\n",
       "      <th>Portugal</th>\n",
       "      <td>200</td>\n",
       "      <td>6</td>\n",
       "      <td>0.030000</td>\n",
       "      <td>91</td>\n",
       "      <td>0</td>\n",
       "      <td>0.000000</td>\n",
       "      <td>-1.000000</td>\n",
       "    </tr>\n",
       "    <tr>\n",
       "      <th>Switzerland</th>\n",
       "      <td>77</td>\n",
       "      <td>4</td>\n",
       "      <td>0.051948</td>\n",
       "      <td>35</td>\n",
       "      <td>0</td>\n",
       "      <td>0.000000</td>\n",
       "      <td>-1.000000</td>\n",
       "    </tr>\n",
       "    <tr>\n",
       "      <th>Israel</th>\n",
       "      <td>187</td>\n",
       "      <td>12</td>\n",
       "      <td>0.064171</td>\n",
       "      <td>106</td>\n",
       "      <td>2</td>\n",
       "      <td>0.018868</td>\n",
       "      <td>-0.705975</td>\n",
       "    </tr>\n",
       "    <tr>\n",
       "      <th>Belgium</th>\n",
       "      <td>198</td>\n",
       "      <td>6</td>\n",
       "      <td>0.030303</td>\n",
       "      <td>92</td>\n",
       "      <td>1</td>\n",
       "      <td>0.010870</td>\n",
       "      <td>-0.641304</td>\n",
       "    </tr>\n",
       "    <tr>\n",
       "      <th>France</th>\n",
       "      <td>746</td>\n",
       "      <td>20</td>\n",
       "      <td>0.026810</td>\n",
       "      <td>359</td>\n",
       "      <td>4</td>\n",
       "      <td>0.011142</td>\n",
       "      <td>-0.584401</td>\n",
       "    </tr>\n",
       "  </tbody>\n",
       "</table>\n",
       "</div>"
      ],
      "text/plain": [
       "             users_ctrl  payers_ctrl  conversion_ctrl  users_test  \\\n",
       "country                                                             \n",
       "Portugal            200            6         0.030000          91   \n",
       "Switzerland          77            4         0.051948          35   \n",
       "Israel              187           12         0.064171         106   \n",
       "Belgium             198            6         0.030303          92   \n",
       "France              746           20         0.026810         359   \n",
       "\n",
       "             payers_test  conversion_test      lift  \n",
       "country                                              \n",
       "Portugal               0         0.000000 -1.000000  \n",
       "Switzerland            0         0.000000 -1.000000  \n",
       "Israel                 2         0.018868 -0.705975  \n",
       "Belgium                1         0.010870 -0.641304  \n",
       "France                 4         0.011142 -0.584401  "
      ]
     },
     "execution_count": 6,
     "metadata": {},
     "output_type": "execute_result"
    }
   ],
   "source": [
    "def conv_by_country(users_df, trans_df):\n",
    "    premium = trans_df.loc[trans_df['product_type']=='premium_no_trial','uid'].unique()\n",
    "    users_df = users_df.copy()\n",
    "    users_df['payer'] = users_df['uid'].isin(premium)\n",
    "    g = users_df.groupby('country')['payer'].agg(['count','sum']).rename(columns={'count':'users','sum':'payers'})\n",
    "    g['conversion'] = g['payers']/g['users']\n",
    "    return g\n",
    "\n",
    "ctrl_country = conv_by_country(control_combined_users, control_combined_trans)\n",
    "test_country = conv_by_country(data['users_test'], data['transactions_test'])\n",
    "\n",
    "cmp = ctrl_country.join(test_country, lsuffix='_ctrl', rsuffix='_test', how='inner')\n",
    "cmp = cmp[(cmp['users_ctrl']>=30)&(cmp['users_test']>=30)]\n",
    "cmp['lift'] = cmp['conversion_test']/cmp['conversion_ctrl'] - 1\n",
    "cmp_sorted = cmp.sort_values('lift')\n",
    "cmp_sorted.head()\n"
   ]
  },
  {
   "cell_type": "code",
   "execution_count": 7,
   "id": "261d48f6",
   "metadata": {},
   "outputs": [
    {
     "data": {
      "image/png": "[encoded data removed]",
      "text/plain": [
       "<Figure size 600x400 with 1 Axes>"
      ]
     },
     "metadata": {},
     "output_type": "display_data"
    }
   ],
   "source": [
    "# Plot top‑10 negative lifts\n",
    "top_neg = cmp_sorted.head(10)\n",
    "plt.figure(figsize=(6,4))\n",
    "plt.barh(top_neg.index, top_neg['lift'])\n",
    "plt.title('Worst conversion lifts (Test vs Control)')\n",
    "plt.xlabel('Lift')\n",
    "plt.gca().invert_yaxis()\n",
    "plt.show()\n"
   ]
  },
  {
   "cell_type": "markdown",
   "id": "8f7ff805",
   "metadata": {},
   "source": [
    "## 6. Conclusions <a id='conclusions'></a>\n",
    "* **Конверсия** упала с 2.34 % до 1.56 % (p ≈ 0.003) — статистически значимый негативный эффект.\n",
    "* **ARPU** номинально +3.3 %, но p ≈ 0.85 → отличий нет.\n",
    "* Большинство крупных стран демонстрируют отрицательный lift; единичный позитив (ОАЭ) недостаточен.\n",
    "\n",
    "**Решение:** откатить изменение и протестировать цену и платёжные системы раздельно."
   ]
  }
 ],
 "metadata": {
  "kernelspec": {
   "display_name": "Python 3 (ipykernel)",
   "language": "python",
   "name": "python3"
  },
  "language_info": {
   "codemirror_mode": {
    "name": "ipython",
    "version": 3
   },
   "file_extension": ".py",
   "mimetype": "text/x-python",
   "name": "python",
   "nbconvert_exporter": "python",
   "pygments_lexer": "ipython3",
   "version": "3.12.9"
  }
 },
 "nbformat": 4,
 "nbformat_minor": 5
}
