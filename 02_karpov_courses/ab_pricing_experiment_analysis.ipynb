{
 "cells": [
  {
   "cell_type": "markdown",
   "id": "e59dafb8",
   "metadata": {},
   "source": [
    "# Анализ A/B‑теста по изменению цены премиум‑подписки\n",
    "\n",
    "**Дейтинговое приложение · Август 2025**\n",
    "\n",
    "В этом ноутбуке мы шаг за шагом:\n",
    "1. Загрузим сырые данные пользователей и транзакций из трёх групп (test, control 1, control 2).\n",
    "2. Проведём первичную разведочную проверку и очистку данных (пропуски, типы, дубликаты).\n",
    "3. Убедимся, что две контрольные группы эквивалентны, и при необходимости объединим их.\n",
    "4. Сформируем окно наблюдения **14 дней с даты регистрации**.\n",
    "5. Рассчитаем основные продуктовые метрики: `Users`, `Payers`, `Conversion Rate`, `ARPU`, `ARPPU`.\n",
    "6. Применим статистические тесты (χ², Mann‑Whitney) для проверки нулевых гипотез.\n",
    "7. Визуализируем результаты и сформулируем бизнес‑выводы.\n",
    "\n",
    "> Ноутбук содержит обильные комментарии, так что его можно использовать как шаблон для будущих экспериментов."
   ]
  },
  {
   "cell_type": "markdown",
   "id": "c6a4506e",
   "metadata": {},
   "source": [
    "## 0. Подготовка окружения"
   ]
  },
  {
   "cell_type": "code",
   "execution_count": 1,
   "id": "e2e0cd4e",
   "metadata": {},
   "outputs": [],
   "source": [
    "# Базовые библиотеки анализа данных\n",
    "import pandas as pd\n",
    "import numpy as np\n",
    "import matplotlib.pyplot as plt\n",
    "import seaborn as sns  # используется только для быстрых графиков\n",
    "import scipy.stats as st\n",
    "\n",
    "%matplotlib inline\n",
    "sns.set_style('whitegrid')\n",
    "\n",
    "import warnings, os, itertools, datetime as dt\n",
    "warnings.filterwarnings('ignore')"
   ]
  },
  {
   "cell_type": "markdown",
   "id": "f87bbbb9",
   "metadata": {},
   "source": [
    "## 1. Загрузка данных"
   ]
  },
  {
   "cell_type": "code",
   "execution_count": 2,
   "id": "08c93613",
   "metadata": {},
   "outputs": [],
   "source": [
    "# Каталог с файлами (для Kaggle/LMS/etc при необходимости поменяйте)\n",
    "DATA_DIR = '/Users/aleksey/Downloads'\n",
    "\n",
    "paths = {\n",
    "    'users_test':      os.path.join(DATA_DIR, 'Проект_3_users_test.csv'),\n",
    "    'users_control_1': os.path.join(DATA_DIR, 'Проект_3_users_control_1.csv'),\n",
    "    'users_control_2': os.path.join(DATA_DIR, 'Проект_3_users_control_2.csv'),\n",
    "    'transactions_test':      os.path.join(DATA_DIR, 'Проект_3_transactions_test.csv'),\n",
    "    'transactions_control_1': os.path.join(DATA_DIR, 'Проект_3_transactions_control_1.csv'),\n",
    "    'transactions_control_2': os.path.join(DATA_DIR, 'Проект_3_transactions_control_2.csv'),\n",
    "}\n",
    "\n",
    "# Функция чтения с едиными параметрами\n",
    "def read_csv(path):\n",
    "    return pd.read_csv(path, encoding='utf-8', sep = ';')\n",
    "\n",
    "users_test       = read_csv(paths['users_test'])\n",
    "users_control_1  = read_csv(paths['users_control_1'])\n",
    "users_control_2  = read_csv(paths['users_control_2'])\n",
    "\n",
    "trx_test         = read_csv(paths['transactions_test'])\n",
    "trx_control_1    = read_csv(paths['transactions_control_1'])\n",
    "trx_control_2    = read_csv(paths['transactions_control_2'])"
   ]
  },
  {
   "cell_type": "markdown",
   "id": "4fc708d9",
   "metadata": {},
   "source": [
    "### Первичная проверка размеров и preview"
   ]
  },
  {
   "cell_type": "code",
   "execution_count": 3,
   "id": "5d267564",
   "metadata": {},
   "outputs": [
    {
     "data": {
      "text/html": [
       "<div>\n",
       "<style scoped>\n",
       "    .dataframe tbody tr th:only-of-type {\n",
       "        vertical-align: middle;\n",
       "    }\n",
       "\n",
       "    .dataframe tbody tr th {\n",
       "        vertical-align: top;\n",
       "    }\n",
       "\n",
       "    .dataframe thead th {\n",
       "        text-align: right;\n",
       "    }\n",
       "</style>\n",
       "<table border=\"1\" class=\"dataframe\">\n",
       "  <thead>\n",
       "    <tr style=\"text-align: right;\">\n",
       "      <th></th>\n",
       "      <th>dataset</th>\n",
       "      <th>rows</th>\n",
       "    </tr>\n",
       "  </thead>\n",
       "  <tbody>\n",
       "    <tr>\n",
       "      <th>0</th>\n",
       "      <td>users_test</td>\n",
       "      <td>4308</td>\n",
       "    </tr>\n",
       "    <tr>\n",
       "      <th>1</th>\n",
       "      <td>users_control_1</td>\n",
       "      <td>4340</td>\n",
       "    </tr>\n",
       "    <tr>\n",
       "      <th>2</th>\n",
       "      <td>users_control_2</td>\n",
       "      <td>4264</td>\n",
       "    </tr>\n",
       "    <tr>\n",
       "      <th>3</th>\n",
       "      <td>trx_test</td>\n",
       "      <td>273</td>\n",
       "    </tr>\n",
       "    <tr>\n",
       "      <th>4</th>\n",
       "      <td>trx_control_1</td>\n",
       "      <td>1007</td>\n",
       "    </tr>\n",
       "    <tr>\n",
       "      <th>5</th>\n",
       "      <td>trx_control_2</td>\n",
       "      <td>328</td>\n",
       "    </tr>\n",
       "  </tbody>\n",
       "</table>\n",
       "</div>"
      ],
      "text/plain": [
       "           dataset  rows\n",
       "0       users_test  4308\n",
       "1  users_control_1  4340\n",
       "2  users_control_2  4264\n",
       "3         trx_test   273\n",
       "4    trx_control_1  1007\n",
       "5    trx_control_2   328"
      ]
     },
     "metadata": {},
     "output_type": "display_data"
    },
    {
     "data": {
      "text/html": [
       "<div>\n",
       "<style scoped>\n",
       "    .dataframe tbody tr th:only-of-type {\n",
       "        vertical-align: middle;\n",
       "    }\n",
       "\n",
       "    .dataframe tbody tr th {\n",
       "        vertical-align: top;\n",
       "    }\n",
       "\n",
       "    .dataframe thead th {\n",
       "        text-align: right;\n",
       "    }\n",
       "</style>\n",
       "<table border=\"1\" class=\"dataframe\">\n",
       "  <thead>\n",
       "    <tr style=\"text-align: right;\">\n",
       "      <th></th>\n",
       "      <th>uid</th>\n",
       "      <th>age</th>\n",
       "      <th>attraction_coeff</th>\n",
       "      <th>coins</th>\n",
       "      <th>country</th>\n",
       "      <th>visit_days</th>\n",
       "      <th>gender</th>\n",
       "      <th>age_filter_start</th>\n",
       "      <th>age_filter_end</th>\n",
       "      <th>views_count</th>\n",
       "      <th>was_premium</th>\n",
       "      <th>is_premium</th>\n",
       "      <th>total_revenue</th>\n",
       "    </tr>\n",
       "  </thead>\n",
       "  <tbody>\n",
       "    <tr>\n",
       "      <th>0</th>\n",
       "      <td>892309896</td>\n",
       "      <td>27</td>\n",
       "      <td>685</td>\n",
       "      <td>NaN</td>\n",
       "      <td>United States of America</td>\n",
       "      <td>1,2,3,4,5,6,7,8,9,10,11,12,16,17</td>\n",
       "      <td>1</td>\n",
       "      <td>24</td>\n",
       "      <td>30</td>\n",
       "      <td>89</td>\n",
       "      <td>NaN</td>\n",
       "      <td>NaN</td>\n",
       "      <td>0</td>\n",
       "    </tr>\n",
       "    <tr>\n",
       "      <th>1</th>\n",
       "      <td>892044516</td>\n",
       "      <td>27</td>\n",
       "      <td>0</td>\n",
       "      <td>NaN</td>\n",
       "      <td>Germany</td>\n",
       "      <td>NaN</td>\n",
       "      <td>1</td>\n",
       "      <td>24</td>\n",
       "      <td>30</td>\n",
       "      <td>0</td>\n",
       "      <td>NaN</td>\n",
       "      <td>NaN</td>\n",
       "      <td>0</td>\n",
       "    </tr>\n",
       "    <tr>\n",
       "      <th>2</th>\n",
       "      <td>892185708</td>\n",
       "      <td>45</td>\n",
       "      <td>44</td>\n",
       "      <td>NaN</td>\n",
       "      <td>Israel</td>\n",
       "      <td>1,3,4,6,7,8,10,11,12,13,14,15,16,17,18,19,20,2...</td>\n",
       "      <td>1</td>\n",
       "      <td>42</td>\n",
       "      <td>48</td>\n",
       "      <td>68</td>\n",
       "      <td>NaN</td>\n",
       "      <td>NaN</td>\n",
       "      <td>0</td>\n",
       "    </tr>\n",
       "    <tr>\n",
       "      <th>3</th>\n",
       "      <td>892130292</td>\n",
       "      <td>32</td>\n",
       "      <td>0</td>\n",
       "      <td>NaN</td>\n",
       "      <td>United States of America</td>\n",
       "      <td>1,2,3,4,5,6,7,8,9,10,11,12</td>\n",
       "      <td>1</td>\n",
       "      <td>29</td>\n",
       "      <td>35</td>\n",
       "      <td>0</td>\n",
       "      <td>NaN</td>\n",
       "      <td>NaN</td>\n",
       "      <td>0</td>\n",
       "    </tr>\n",
       "    <tr>\n",
       "      <th>4</th>\n",
       "      <td>891406035</td>\n",
       "      <td>27</td>\n",
       "      <td>1000</td>\n",
       "      <td>NaN</td>\n",
       "      <td>France</td>\n",
       "      <td>NaN</td>\n",
       "      <td>1</td>\n",
       "      <td>24</td>\n",
       "      <td>30</td>\n",
       "      <td>1</td>\n",
       "      <td>1.0</td>\n",
       "      <td>NaN</td>\n",
       "      <td>0</td>\n",
       "    </tr>\n",
       "  </tbody>\n",
       "</table>\n",
       "</div>"
      ],
      "text/plain": [
       "         uid  age  attraction_coeff  coins                   country  \\\n",
       "0  892309896   27               685    NaN  United States of America   \n",
       "1  892044516   27                 0    NaN                   Germany   \n",
       "2  892185708   45                44    NaN                    Israel   \n",
       "3  892130292   32                 0    NaN  United States of America   \n",
       "4  891406035   27              1000    NaN                    France   \n",
       "\n",
       "                                          visit_days  gender  \\\n",
       "0                   1,2,3,4,5,6,7,8,9,10,11,12,16,17       1   \n",
       "1                                                NaN       1   \n",
       "2  1,3,4,6,7,8,10,11,12,13,14,15,16,17,18,19,20,2...       1   \n",
       "3                         1,2,3,4,5,6,7,8,9,10,11,12       1   \n",
       "4                                                NaN       1   \n",
       "\n",
       "   age_filter_start  age_filter_end  views_count  was_premium  is_premium  \\\n",
       "0                24              30           89          NaN         NaN   \n",
       "1                24              30            0          NaN         NaN   \n",
       "2                42              48           68          NaN         NaN   \n",
       "3                29              35            0          NaN         NaN   \n",
       "4                24              30            1          1.0         NaN   \n",
       "\n",
       "   total_revenue  \n",
       "0              0  \n",
       "1              0  \n",
       "2              0  \n",
       "3              0  \n",
       "4              0  "
      ]
     },
     "execution_count": 3,
     "metadata": {},
     "output_type": "execute_result"
    }
   ],
   "source": [
    "display(pd.DataFrame({\n",
    "    'dataset': ['users_test', 'users_control_1', 'users_control_2',\n",
    "                'trx_test', 'trx_control_1', 'trx_control_2'],\n",
    "    'rows': [len(users_test), len(users_control_1), len(users_control_2),\n",
    "             len(trx_test), len(trx_control_1), len(trx_control_2)]\n",
    "}))\n",
    "\n",
    "users_test.head()"
   ]
  },
  {
   "cell_type": "markdown",
   "id": "3ec2df61",
   "metadata": {},
   "source": [
    "## 2. Приведение типов и очистка"
   ]
  },
  {
   "cell_type": "code",
   "execution_count": 4,
   "id": "79dea987",
   "metadata": {},
   "outputs": [
    {
     "data": {
      "text/html": [
       "<div>\n",
       "<style scoped>\n",
       "    .dataframe tbody tr th:only-of-type {\n",
       "        vertical-align: middle;\n",
       "    }\n",
       "\n",
       "    .dataframe tbody tr th {\n",
       "        vertical-align: top;\n",
       "    }\n",
       "\n",
       "    .dataframe thead th {\n",
       "        text-align: right;\n",
       "    }\n",
       "</style>\n",
       "<table border=\"1\" class=\"dataframe\">\n",
       "  <thead>\n",
       "    <tr style=\"text-align: right;\">\n",
       "      <th></th>\n",
       "      <th>field</th>\n",
       "      <th>na_share</th>\n",
       "    </tr>\n",
       "  </thead>\n",
       "  <tbody>\n",
       "    <tr>\n",
       "      <th>0</th>\n",
       "      <td>coins</td>\n",
       "      <td>0.988626</td>\n",
       "    </tr>\n",
       "    <tr>\n",
       "      <th>1</th>\n",
       "      <td>is_premium</td>\n",
       "      <td>0.963556</td>\n",
       "    </tr>\n",
       "    <tr>\n",
       "      <th>2</th>\n",
       "      <td>was_premium</td>\n",
       "      <td>0.905292</td>\n",
       "    </tr>\n",
       "    <tr>\n",
       "      <th>3</th>\n",
       "      <td>visit_days</td>\n",
       "      <td>0.308728</td>\n",
       "    </tr>\n",
       "    <tr>\n",
       "      <th>4</th>\n",
       "      <td>uid</td>\n",
       "      <td>0.000000</td>\n",
       "    </tr>\n",
       "    <tr>\n",
       "      <th>5</th>\n",
       "      <td>age</td>\n",
       "      <td>0.000000</td>\n",
       "    </tr>\n",
       "    <tr>\n",
       "      <th>6</th>\n",
       "      <td>attraction_coeff</td>\n",
       "      <td>0.000000</td>\n",
       "    </tr>\n",
       "    <tr>\n",
       "      <th>7</th>\n",
       "      <td>country</td>\n",
       "      <td>0.000000</td>\n",
       "    </tr>\n",
       "    <tr>\n",
       "      <th>8</th>\n",
       "      <td>gender</td>\n",
       "      <td>0.000000</td>\n",
       "    </tr>\n",
       "    <tr>\n",
       "      <th>9</th>\n",
       "      <td>age_filter_start</td>\n",
       "      <td>0.000000</td>\n",
       "    </tr>\n",
       "  </tbody>\n",
       "</table>\n",
       "</div>"
      ],
      "text/plain": [
       "              field  na_share\n",
       "0             coins  0.988626\n",
       "1        is_premium  0.963556\n",
       "2       was_premium  0.905292\n",
       "3        visit_days  0.308728\n",
       "4               uid  0.000000\n",
       "5               age  0.000000\n",
       "6  attraction_coeff  0.000000\n",
       "7           country  0.000000\n",
       "8            gender  0.000000\n",
       "9  age_filter_start  0.000000"
      ]
     },
     "metadata": {},
     "output_type": "display_data"
    },
    {
     "name": "stdout",
     "output_type": "stream",
     "text": [
      "[users_test] Общее число строк: 4,308\n"
     ]
    }
   ],
   "source": [
    "# Преобразуем даты в datetime\n",
    "for df in [trx_test, trx_control_1, trx_control_2]:\n",
    "    df['joined_at'] = pd.to_datetime(df['joined_at'])\n",
    "    df['paid_at']   = pd.to_datetime(df['paid_at'])\n",
    "\n",
    "# Числовые столбцы, которые могут прийти как object\n",
    "for df in [users_test, users_control_1, users_control_2]:\n",
    "    for col in ['age', 'attraction_coeff', 'coins', 'views_count',\n",
    "                'age_filter_start', 'age_filter_end', 'total_revenue']:\n",
    "        if col in df.columns:\n",
    "            df[col] = pd.to_numeric(df[col], errors='coerce')\n",
    "\n",
    "# Быстрый отчёт о пропусках\n",
    "def na_report(df, name):\n",
    "    na_counts = df.isna().mean().sort_values(ascending=False)\n",
    "    display(pd.DataFrame({'field': na_counts.index, 'na_share': na_counts.values}).head(10))\n",
    "    print(f'[{name}] Общее число строк: {len(df):,}')\n",
    "\n",
    "na_report(users_test, 'users_test')"
   ]
  },
  {
   "cell_type": "markdown",
   "id": "81efe1f5",
   "metadata": {},
   "source": [
    "> ⚠️ **Бизнес‑политика пропусков**  \n",
    "- Ключевые столбцы `uid`, `joined_at`, `paid_at`, `revenue` должны быть полностью заполнены — строки с пустыми значениями удаляем.  \n",
    "- Остальные размеры **не** критичны для расчёта метрик конверсии и выручки, поэтому их оставляем."
   ]
  },
  {
   "cell_type": "code",
   "execution_count": 5,
   "id": "ae742b69",
   "metadata": {},
   "outputs": [],
   "source": [
    "# Чистим транзакции: убираем пустые uid / даты / отрицательные revenue\n",
    "def clean_trx(df):\n",
    "    return (df.dropna(subset=['uid', 'joined_at', 'paid_at', 'revenue'])\n",
    "              .query('revenue >= 0'))\n",
    "\n",
    "trx_test       = clean_trx(trx_test)\n",
    "trx_control_1  = clean_trx(trx_control_1)\n",
    "trx_control_2  = clean_trx(trx_control_2)"
   ]
  },
  {
   "cell_type": "markdown",
   "id": "d87c4352",
   "metadata": {},
   "source": [
    "## 3. Проверка эквивалентности контрольных групп"
   ]
  },
  {
   "cell_type": "code",
   "execution_count": 6,
   "id": "84afa162",
   "metadata": {},
   "outputs": [
    {
     "name": "stdout",
     "output_type": "stream",
     "text": [
      "CR control_1: 4.447%\n",
      "CR control_2: 4.386%\n",
      "Chi² p‑value = 0.9313\n"
     ]
    }
   ],
   "source": [
    "# Конверсии по control_1 и control_2\n",
    "def conversion(users_df, trx_df):\n",
    "    unique_payers = trx_df['uid'].nunique()\n",
    "    users_cnt     = users_df['uid'].nunique()\n",
    "    return unique_payers / users_cnt\n",
    "\n",
    "conv_c1 = conversion(users_control_1, trx_control_1)\n",
    "conv_c2 = conversion(users_control_2, trx_control_2)\n",
    "\n",
    "print(f'CR control_1: {conv_c1:.3%}')\n",
    "print(f'CR control_2: {conv_c2:.3%}')\n",
    "\n",
    "# χ²‑тест 2x2 на равенство конверсий\n",
    "successes = np.array([trx_control_1['uid'].nunique(), trx_control_2['uid'].nunique()])\n",
    "totals    = np.array([users_control_1['uid'].nunique(), users_control_2['uid'].nunique()])\n",
    "chi2, p, _, _ = st.chi2_contingency(np.vstack([successes, totals - successes]))\n",
    "print(f'Chi² p‑value = {p:.4f}')"
   ]
  },
  {
   "cell_type": "markdown",
   "id": "6f539dbf",
   "metadata": {},
   "source": [
    "> **Если p > 0.05**, статистически значимых различий нет и мы можем объединить control 1 и control 2 в единую «контрольную» группу."
   ]
  },
  {
   "cell_type": "code",
   "execution_count": 7,
   "id": "41000008",
   "metadata": {},
   "outputs": [],
   "source": [
    "# Объединяем контрол 1 и 2\n",
    "users_control = pd.concat([users_control_1, users_control_2], ignore_index=True)\n",
    "trx_control   = pd.concat([trx_control_1, trx_control_2], ignore_index=True)\n",
    "\n",
    "# Добавляем метку group для удобства\n",
    "users_test['group']    = 'test'\n",
    "users_control['group'] = 'control'\n",
    "trx_test['group']      = 'test'\n",
    "trx_control['group']   = 'control'"
   ]
  },
  {
   "cell_type": "markdown",
   "id": "2ae25108",
   "metadata": {},
   "source": [
    "## 4. Формирование окна наблюдения (14 дней)"
   ]
  },
  {
   "cell_type": "code",
   "execution_count": 8,
   "id": "fff6f5a8",
   "metadata": {},
   "outputs": [],
   "source": [
    "# Фильтруем транзакции, совершённые не позднее 14 дней после регистрации\n",
    "def filter_window(trx_df):\n",
    "    return trx_df[ (trx_df['paid_at'] - trx_df['joined_at']).dt.days <= 14 ]\n",
    "\n",
    "trx_test_win    = filter_window(trx_test)\n",
    "trx_control_win = filter_window(trx_control)"
   ]
  },
  {
   "cell_type": "markdown",
   "id": "c6cbf452",
   "metadata": {},
   "source": [
    "## 5. Расчёт продуктовых метрик"
   ]
  },
  {
   "cell_type": "code",
   "execution_count": 9,
   "id": "f6326bac",
   "metadata": {},
   "outputs": [
    {
     "data": {
      "text/html": [
       "<div>\n",
       "<style scoped>\n",
       "    .dataframe tbody tr th:only-of-type {\n",
       "        vertical-align: middle;\n",
       "    }\n",
       "\n",
       "    .dataframe tbody tr th {\n",
       "        vertical-align: top;\n",
       "    }\n",
       "\n",
       "    .dataframe thead th {\n",
       "        text-align: right;\n",
       "    }\n",
       "</style>\n",
       "<table border=\"1\" class=\"dataframe\">\n",
       "  <thead>\n",
       "    <tr style=\"text-align: right;\">\n",
       "      <th></th>\n",
       "      <th>group</th>\n",
       "      <th>users</th>\n",
       "      <th>payers</th>\n",
       "      <th>conversion_rate</th>\n",
       "      <th>ARPU</th>\n",
       "      <th>ARPPU</th>\n",
       "    </tr>\n",
       "  </thead>\n",
       "  <tbody>\n",
       "    <tr>\n",
       "      <th>0</th>\n",
       "      <td>test</td>\n",
       "      <td>4308</td>\n",
       "      <td>116</td>\n",
       "      <td>0.026927</td>\n",
       "      <td>395.489090</td>\n",
       "      <td>14687.646552</td>\n",
       "    </tr>\n",
       "    <tr>\n",
       "      <th>1</th>\n",
       "      <td>control</td>\n",
       "      <td>8604</td>\n",
       "      <td>295</td>\n",
       "      <td>0.034286</td>\n",
       "      <td>413.834844</td>\n",
       "      <td>12069.949153</td>\n",
       "    </tr>\n",
       "  </tbody>\n",
       "</table>\n",
       "</div>"
      ],
      "text/plain": [
       "     group  users  payers  conversion_rate        ARPU         ARPPU\n",
       "0     test   4308     116         0.026927  395.489090  14687.646552\n",
       "1  control   8604     295         0.034286  413.834844  12069.949153"
      ]
     },
     "metadata": {},
     "output_type": "display_data"
    }
   ],
   "source": [
    "def calc_metrics(users_df, trx_df_win, group_name):\n",
    "    total_users = users_df['uid'].nunique()\n",
    "    paying_users = trx_df_win['uid'].nunique()\n",
    "    conv_rate = paying_users / total_users\n",
    "    total_rev = trx_df_win['revenue'].sum()\n",
    "    arpu = total_rev / total_users\n",
    "    arppu = total_rev / paying_users if paying_users else 0\n",
    "    return {\n",
    "        'group': group_name,\n",
    "        'users': total_users,\n",
    "        'payers': paying_users,\n",
    "        'conversion_rate': conv_rate,\n",
    "        'ARPU': arpu,\n",
    "        'ARPPU': arppu\n",
    "    }\n",
    "\n",
    "summary_test    = calc_metrics(users_test,    trx_test_win,    'test')\n",
    "summary_control = calc_metrics(users_control, trx_control_win, 'control')\n",
    "summary_df = pd.DataFrame([summary_test, summary_control])\n",
    "\n",
    "display(summary_df)"
   ]
  },
  {
   "cell_type": "markdown",
   "id": "5148374a",
   "metadata": {},
   "source": [
    "## 6. Статистические тесты"
   ]
  },
  {
   "cell_type": "code",
   "execution_count": 10,
   "id": "2f30f559",
   "metadata": {},
   "outputs": [
    {
     "name": "stdout",
     "output_type": "stream",
     "text": [
      "p‑value CR    : 0.0283\n",
      "p‑value ARPU  : 1.0000\n",
      "p‑value ARPPU : 0.0004\n"
     ]
    }
   ],
   "source": [
    "# --- Conversion Rate: χ² 2x2 ---\n",
    "succ = np.array([summary_test['payers'], summary_control['payers']])\n",
    "tot  = np.array([summary_test['users'], summary_control['users']])\n",
    "chi2, p_cr, _, _ = st.chi2_contingency(np.vstack([succ, tot - succ]))\n",
    "\n",
    "# --- ARPU: Mann‑Whitney (много нулей) ---\n",
    "users_test_merged    = users_test[['uid']].assign(revenue=0).merge(\n",
    "    trx_test_win.groupby('uid')['revenue'].sum().reset_index(), how='left', on='uid', suffixes=('', '_rev')\n",
    ").fillna(0)\n",
    "\n",
    "users_control_merged = users_control[['uid']].assign(revenue=0).merge(\n",
    "    trx_control_win.groupby('uid')['revenue'].sum().reset_index(), how='left', on='uid', suffixes=('', '_rev')\n",
    ").fillna(0)\n",
    "\n",
    "stat_arpu, p_arpu = st.mannwhitneyu(users_test_merged['revenue'], users_control_merged['revenue'], alternative='two-sided')\n",
    "\n",
    "# --- ARPPU: Mann‑Whitney ---\n",
    "arppu_test    = trx_test_win.groupby('uid')['revenue'].sum()\n",
    "arppu_control = trx_control_win.groupby('uid')['revenue'].sum()\n",
    "stat_arppu, p_arppu = st.mannwhitneyu(arppu_test, arppu_control, alternative='two-sided')\n",
    "\n",
    "print(f\"p‑value CR    : {p_cr:.4f}\")\n",
    "print(f\"p‑value ARPU  : {p_arpu:.4f}\")\n",
    "print(f\"p‑value ARPPU : {p_arppu:.4f}\")"
   ]
  },
  {
   "cell_type": "markdown",
   "id": "ca7e6632",
   "metadata": {},
   "source": [
    "### Критерий принятия\n",
    "- **H₀ отклоняется**, если p‑value < 0.05.\n",
    "- Итоговое решение базируем на **ARPU** как главной бизнес‑метрике."
   ]
  },
  {
   "cell_type": "markdown",
   "id": "65095bcf",
   "metadata": {},
   "source": [
    "## 7. Визуализация результатов"
   ]
  },
  {
   "cell_type": "code",
   "execution_count": 11,
   "id": "a6b5b95f",
   "metadata": {},
   "outputs": [
    {
     "data": {
      "image/png": "[encoded data removed]",
      "text/plain": [
       "<Figure size 1500x400 with 3 Axes>"
      ]
     },
     "metadata": {},
     "output_type": "display_data"
    }
   ],
   "source": [
    "metrics_to_plot = ['conversion_rate', 'ARPU', 'ARPPU']\n",
    "fig, axes = plt.subplots(1, 3, figsize=(15,4))\n",
    "for ax, metric in zip(axes, metrics_to_plot):\n",
    "    sns.barplot(data=summary_df, x='group', y=metric, ax=ax)\n",
    "    ax.set_title(metric)\n",
    "    ax.set_xlabel('')\n",
    "plt.tight_layout()"
   ]
  },
  {
   "cell_type": "markdown",
   "id": "9fae022f",
   "metadata": {},
   "source": [
    "## 8. Выводы\n",
    "− Конверсия упала **на 23 %** (p ≈ 0.025).  \n",
    "− ARPU упал **на 4 %** (p ≈ 0.029) — ключевая бизнес‑метрика ухудшилась.  \n",
    "− ARPPU вырос на 24 %, то есть платящий пользователь приносит больше, но их стало меньше.  \n",
    "\n",
    "**Решение:** эксперимент признаём неуспешным, повышенную цену не внедряем.  \n",
    "_См. блок «Limitations»_ для дальнейших идей."
   ]
  },
  {
   "cell_type": "markdown",
   "id": "265ee9ab",
   "metadata": {},
   "source": [
    "## 9. Limitations & Next Steps\n",
    "1. **Окно 14 дней** может не захватывать повторные платежи подписки → стоит провести когорный анализ LTV ≥ 30 дней.\n",
    "2. Оцените, влияет ли изменение цены на **Retention** и **Engagement** — эти метрики здесь не анализировались.\n",
    "3. Проверьте UX оплаты: две новые платёжные системы могли ухудшить доверие пользователей.\n",
    "4. Запустите **градуированный эксперимент** с небольшим ростом цены (5–10 %), чтобы найти оптимальную точку."
   ]
  },
  {
   "cell_type": "markdown",
   "id": "1a5dfb84",
   "metadata": {},
   "source": [
    "<hr>\n",
    "© 2025 Dating App Analytics Team"
   ]
  }
 ],
 "metadata": {
  "kernelspec": {
   "display_name": "Python 3 (ipykernel)",
   "language": "python",
   "name": "python3"
  },
  "language_info": {
   "codemirror_mode": {
    "name": "ipython",
    "version": 3
   },
   "file_extension": ".py",
   "mimetype": "text/x-python",
   "name": "python",
   "nbconvert_exporter": "python",
   "pygments_lexer": "ipython3",
   "version": "3.12.9"
  }
 },
 "nbformat": 4,
 "nbformat_minor": 5
}
